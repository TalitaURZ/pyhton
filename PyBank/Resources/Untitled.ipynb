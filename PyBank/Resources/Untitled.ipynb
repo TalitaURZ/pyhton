{
 "cells": [
  {
   "cell_type": "code",
   "execution_count": 7,
   "id": "e43deee9",
   "metadata": {},
   "outputs": [],
   "source": [
    "import os\n",
    "import csv"
   ]
  },
  {
   "cell_type": "code",
   "execution_count": 8,
   "id": "05f4b8c6",
   "metadata": {},
   "outputs": [],
   "source": [
    "PyBankcsv = os.path.join(\"budget_data.csv\")\n"
   ]
  },
  {
   "cell_type": "code",
   "execution_count": 9,
   "id": "8893eb3f",
   "metadata": {},
   "outputs": [],
   "source": [
    "profit = []\n",
    "monthly_changes = []\n",
    "date = []"
   ]
  },
  {
   "cell_type": "code",
   "execution_count": 10,
   "id": "81fc76c3",
   "metadata": {},
   "outputs": [],
   "source": [
    "count = 0\n",
    "total_profit = 0\n",
    "total_change_profits = 0\n",
    "initial_profit = 0"
   ]
  },
  {
   "cell_type": "code",
   "execution_count": 11,
   "id": "c9616fad",
   "metadata": {},
   "outputs": [],
   "source": [
    "with open(PyBankcsv, newline =\"\") as csvfile:\n",
    "    csvreader = csv.reader(csvfile, delimiter =\",\")\n",
    "    csv_header = next(csvreader)"
   ]
  },
  {
   "cell_type": "code",
   "execution_count": 12,
   "id": "29b366c2",
   "metadata": {},
   "outputs": [
    {
     "ename": "ValueError",
     "evalue": "I/O operation on closed file.",
     "output_type": "error",
     "traceback": [
      "\u001b[1;31m---------------------------------------------------------------------------\u001b[0m",
      "\u001b[1;31mValueError\u001b[0m                                Traceback (most recent call last)",
      "\u001b[1;32m~\\AppData\\Local\\Temp\\ipykernel_45788\\3409556953.py\u001b[0m in \u001b[0;36m<module>\u001b[1;34m\u001b[0m\n\u001b[1;32m----> 1\u001b[1;33m \u001b[1;32mfor\u001b[0m \u001b[0mrow\u001b[0m \u001b[1;32min\u001b[0m \u001b[0mcsvreader\u001b[0m\u001b[1;33m:\u001b[0m\u001b[1;33m\u001b[0m\u001b[1;33m\u001b[0m\u001b[0m\n\u001b[0m\u001b[0;32m      2\u001b[0m     \u001b[0mcount\u001b[0m \u001b[1;33m=\u001b[0m \u001b[0mcount\u001b[0m \u001b[1;33m+\u001b[0m \u001b[1;36m1\u001b[0m\u001b[1;33m\u001b[0m\u001b[1;33m\u001b[0m\u001b[0m\n\u001b[0;32m      3\u001b[0m     \u001b[0mdate\u001b[0m\u001b[1;33m.\u001b[0m\u001b[0mappend\u001b[0m\u001b[1;33m(\u001b[0m\u001b[0mrow\u001b[0m\u001b[1;33m[\u001b[0m\u001b[1;36m0\u001b[0m\u001b[1;33m]\u001b[0m\u001b[1;33m)\u001b[0m\u001b[1;33m\u001b[0m\u001b[1;33m\u001b[0m\u001b[0m\n\u001b[0;32m      4\u001b[0m     \u001b[0mprofit\u001b[0m\u001b[1;33m.\u001b[0m\u001b[0mappend\u001b[0m\u001b[1;33m(\u001b[0m\u001b[0mrow\u001b[0m\u001b[1;33m[\u001b[0m\u001b[1;36m1\u001b[0m\u001b[1;33m]\u001b[0m\u001b[1;33m)\u001b[0m\u001b[1;33m\u001b[0m\u001b[1;33m\u001b[0m\u001b[0m\n\u001b[0;32m      5\u001b[0m     \u001b[0mtotal_profit\u001b[0m \u001b[1;33m=\u001b[0m \u001b[0mtotal_profit\u001b[0m \u001b[1;33m+\u001b[0m \u001b[0mint\u001b[0m\u001b[1;33m(\u001b[0m\u001b[0mrow\u001b[0m\u001b[1;33m[\u001b[0m\u001b[1;36m1\u001b[0m\u001b[1;33m]\u001b[0m\u001b[1;33m)\u001b[0m\u001b[1;33m\u001b[0m\u001b[1;33m\u001b[0m\u001b[0m\n",
      "\u001b[1;31mValueError\u001b[0m: I/O operation on closed file."
     ]
    }
   ],
   "source": [
    "for row in csvreader: \n",
    "    count = count + 1 \n",
    "    date.append(row[0])\n",
    "    profit.append(row[1])\n",
    "    total_profit = total_profit + int(row[1])\n",
    "    final_profit = int(row[1])\n",
    "    monthly_change_profits = final_profit - initial_profit\n",
    "    monthly_changes.append(monthly_change_profits)\n",
    "    initial_profit = final_profit\n",
    "        "
   ]
  },
  {
   "cell_type": "code",
   "execution_count": null,
   "id": "3aa2301f",
   "metadata": {},
   "outputs": [],
   "source": []
  }
 ],
 "metadata": {
  "kernelspec": {
   "display_name": "Python 3 (ipykernel)",
   "language": "python",
   "name": "python3"
  },
  "language_info": {
   "codemirror_mode": {
    "name": "ipython",
    "version": 3
   },
   "file_extension": ".py",
   "mimetype": "text/x-python",
   "name": "python",
   "nbconvert_exporter": "python",
   "pygments_lexer": "ipython3",
   "version": "3.9.13"
  }
 },
 "nbformat": 4,
 "nbformat_minor": 5
}
